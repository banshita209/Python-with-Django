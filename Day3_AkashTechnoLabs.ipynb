{
  "nbformat": 4,
  "nbformat_minor": 0,
  "metadata": {
    "colab": {
      "name": "Day3_AkashTechnoLabs.ipynb",
      "provenance": [],
      "collapsed_sections": [],
      "authorship_tag": "ABX9TyPrnNA3Or9zUExt7jepRQH8",
      "include_colab_link": true
    },
    "kernelspec": {
      "name": "python3",
      "display_name": "Python 3"
    },
    "language_info": {
      "name": "python"
    }
  },
  "cells": [
    {
      "cell_type": "markdown",
      "metadata": {
        "id": "view-in-github",
        "colab_type": "text"
      },
      "source": [
        "<a href=\"https://colab.research.google.com/github/banshita209/Python-with-Django/blob/master/Day3_AkashTechnoLabs.ipynb\" target=\"_parent\"><img src=\"https://colab.research.google.com/assets/colab-badge.svg\" alt=\"Open In Colab\"/></a>"
      ]
    },
    {
      "cell_type": "markdown",
      "metadata": {
        "id": "dv-ZRAwa0LeC"
      },
      "source": [
        "# Input from user"
      ]
    },
    {
      "cell_type": "code",
      "metadata": {
        "colab": {
          "base_uri": "https://localhost:8080/"
        },
        "id": "rb1s85K-0BCm",
        "outputId": "6923eabd-ca37-44c6-8d7c-fb5025488728"
      },
      "source": [
        "n=input(\"enter something\")\n",
        "print(n)"
      ],
      "execution_count": 1,
      "outputs": [
        {
          "output_type": "stream",
          "text": [
            "enter somethingbanshita\n",
            "banshita\n"
          ],
          "name": "stdout"
        }
      ]
    },
    {
      "cell_type": "code",
      "metadata": {
        "colab": {
          "base_uri": "https://localhost:8080/"
        },
        "id": "47EiZaEp0Ym3",
        "outputId": "164a7265-44a0-4059-c7fa-ad3b0e1e80de"
      },
      "source": [
        "#sum of 2 no\n",
        "n1=input(\"enter num1\")\n",
        "n2=input(\"enter num2\")\n",
        "ans=n1+n2\n",
        "print(\"sum=\",ans)"
      ],
      "execution_count": 2,
      "outputs": [
        {
          "output_type": "stream",
          "text": [
            "enter num12\n",
            "enter num23\n",
            "sum= 23\n"
          ],
          "name": "stdout"
        }
      ]
    },
    {
      "cell_type": "markdown",
      "metadata": {
        "id": "AgTuO1d50r5c"
      },
      "source": [
        "input method return value in string so we need to tyoe cast the value to other data type"
      ]
    },
    {
      "cell_type": "code",
      "metadata": {
        "colab": {
          "base_uri": "https://localhost:8080/"
        },
        "id": "R0clEG1S0o21",
        "outputId": "839168e6-8ee6-4500-f8f3-8d23c9b9994b"
      },
      "source": [
        "#sum of 2 no\n",
        "n1=int(input(\"enter num1\"))\n",
        "n2=int(input(\"enter num2\"))\n",
        "ans=n1+n2\n",
        "print(\"sum=\",ans)"
      ],
      "execution_count": 3,
      "outputs": [
        {
          "output_type": "stream",
          "text": [
            "enter num13\n",
            "enter num24\n",
            "sum= 7\n"
          ],
          "name": "stdout"
        }
      ]
    },
    {
      "cell_type": "markdown",
      "metadata": {
        "id": "bLJ6gjCL1BPV"
      },
      "source": [
        "#conditional statement\n",
        "\n",
        "*   if\n",
        "*   if..else\n",
        "* elseif\n",
        "*nested if\n"
      ]
    },
    {
      "cell_type": "code",
      "metadata": {
        "colab": {
          "base_uri": "https://localhost:8080/"
        },
        "id": "uWtB6Pjl2TiW",
        "outputId": "7bcc36e8-f5b8-400d-9ddc-42573aae3c00"
      },
      "source": [
        "n1=10\n",
        "n2=20\n",
        "if n1>n2:\n",
        "  print(n1,\" is greater\")\n",
        "if n2>n1:\n",
        "  print(n2,\" is greater\")"
      ],
      "execution_count": 5,
      "outputs": [
        {
          "output_type": "stream",
          "text": [
            "20  is greater\n"
          ],
          "name": "stdout"
        }
      ]
    },
    {
      "cell_type": "code",
      "metadata": {
        "colab": {
          "base_uri": "https://localhost:8080/"
        },
        "id": "RY8t1NDo1Ndp",
        "outputId": "ba297573-193a-481a-8684-a70e6abc0ea2"
      },
      "source": [
        "n1=10\n",
        "n2=20\n",
        "if n1>n2:\n",
        "  print(n1,\" is greater\")\n",
        "else:\n",
        "  print(n2,\" is greater\")"
      ],
      "execution_count": 4,
      "outputs": [
        {
          "output_type": "stream",
          "text": [
            "20  is greater\n"
          ],
          "name": "stdout"
        }
      ]
    },
    {
      "cell_type": "code",
      "metadata": {
        "colab": {
          "base_uri": "https://localhost:8080/"
        },
        "id": "SDKC7Ycl2tDx",
        "outputId": "96fc13a5-1f03-4ba5-a3d7-3ddaaf7a1217"
      },
      "source": [
        "n1=20\n",
        "n2=20\n",
        "if n1>n2:\n",
        "  print(n1,\" is greater\")\n",
        "elif n2>n1:\n",
        "  print(n2,\" is greater\")\n",
        "else:\n",
        "  print(\"both numbers are equal\")"
      ],
      "execution_count": 7,
      "outputs": [
        {
          "output_type": "stream",
          "text": [
            "both numbers are equal\n"
          ],
          "name": "stdout"
        }
      ]
    },
    {
      "cell_type": "markdown",
      "metadata": {
        "id": "xQAWittN40Fy"
      },
      "source": [
        "#loop\n",
        "\n",
        "* while\n",
        "*   for"
      ]
    },
    {
      "cell_type": "code",
      "metadata": {
        "colab": {
          "base_uri": "https://localhost:8080/"
        },
        "id": "uXykPSjf47wC",
        "outputId": "e8a6f5de-cc87-4565-be6d-94b1aa6e8a5c"
      },
      "source": [
        "i=1\n",
        "while i <=10:\n",
        "  print(i)\n",
        "  i+=1"
      ],
      "execution_count": 9,
      "outputs": [
        {
          "output_type": "stream",
          "text": [
            "1\n",
            "2\n",
            "3\n",
            "4\n",
            "5\n",
            "6\n",
            "7\n",
            "8\n",
            "9\n",
            "10\n"
          ],
          "name": "stdout"
        }
      ]
    },
    {
      "cell_type": "code",
      "metadata": {
        "colab": {
          "base_uri": "https://localhost:8080/"
        },
        "id": "Sk2s-gdL5VY7",
        "outputId": "9cba1071-d85b-4e45-d750-a3c46d01997f"
      },
      "source": [
        "for i in 'Hello':\n",
        "  print(\"value: \",i)"
      ],
      "execution_count": 10,
      "outputs": [
        {
          "output_type": "stream",
          "text": [
            "value:  H\n",
            "value:  e\n",
            "value:  l\n",
            "value:  l\n",
            "value:  o\n"
          ],
          "name": "stdout"
        }
      ]
    },
    {
      "cell_type": "code",
      "metadata": {
        "colab": {
          "base_uri": "https://localhost:8080/"
        },
        "id": "pWSTaw6S3Y7D",
        "outputId": "248417ff-db90-42da-d02c-3fc0fb38bb5b"
      },
      "source": [
        "l1=[1,2,3,4,54]\n",
        "print(l1)\n",
        "\n",
        "for i in l1:\n",
        "  print(i)"
      ],
      "execution_count": 11,
      "outputs": [
        {
          "output_type": "stream",
          "text": [
            "[1, 2, 3, 4, 54]\n",
            "1\n",
            "2\n",
            "3\n",
            "4\n",
            "54\n"
          ],
          "name": "stdout"
        }
      ]
    }
  ]
}