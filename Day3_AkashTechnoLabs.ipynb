{
  "nbformat": 4,
  "nbformat_minor": 0,
  "metadata": {
    "colab": {
      "name": "Day3_AkashTechnoLabs.ipynb",
      "provenance": [],
      "authorship_tag": "ABX9TyOGh85+TGGN/qK8tA/Wd8mz",
      "include_colab_link": true
    },
    "kernelspec": {
      "name": "python3",
      "display_name": "Python 3"
    },
    "language_info": {
      "name": "python"
    }
  },
  "cells": [
    {
      "cell_type": "markdown",
      "metadata": {
        "id": "view-in-github",
        "colab_type": "text"
      },
      "source": [
        "<a href=\"https://colab.research.google.com/github/banshita209/Python-with-Django/blob/master/Day3_AkashTechnoLabs.ipynb\" target=\"_parent\"><img src=\"https://colab.research.google.com/assets/colab-badge.svg\" alt=\"Open In Colab\"/></a>"
      ]
    },
    {
      "cell_type": "markdown",
      "metadata": {
        "id": "dv-ZRAwa0LeC"
      },
      "source": [
        "# Input from user"
      ]
    },
    {
      "cell_type": "code",
      "metadata": {
        "colab": {
          "base_uri": "https://localhost:8080/"
        },
        "id": "rb1s85K-0BCm",
        "outputId": "6923eabd-ca37-44c6-8d7c-fb5025488728"
      },
      "source": [
        "n=input(\"enter something\")\n",
        "print(n)"
      ],
      "execution_count": 1,
      "outputs": [
        {
          "output_type": "stream",
          "text": [
            "enter somethingbanshita\n",
            "banshita\n"
          ],
          "name": "stdout"
        }
      ]
    },
    {
      "cell_type": "code",
      "metadata": {
        "colab": {
          "base_uri": "https://localhost:8080/"
        },
        "id": "47EiZaEp0Ym3",
        "outputId": "164a7265-44a0-4059-c7fa-ad3b0e1e80de"
      },
      "source": [
        "#sum of 2 no\n",
        "n1=input(\"enter num1\")\n",
        "n2=input(\"enter num2\")\n",
        "ans=n1+n2\n",
        "print(\"sum=\",ans)"
      ],
      "execution_count": 2,
      "outputs": [
        {
          "output_type": "stream",
          "text": [
            "enter num12\n",
            "enter num23\n",
            "sum= 23\n"
          ],
          "name": "stdout"
        }
      ]
    },
    {
      "cell_type": "markdown",
      "metadata": {
        "id": "AgTuO1d50r5c"
      },
      "source": [
        "input method return value in string so we need to tyoe cast the value to other data type"
      ]
    },
    {
      "cell_type": "code",
      "metadata": {
        "colab": {
          "base_uri": "https://localhost:8080/"
        },
        "id": "R0clEG1S0o21",
        "outputId": "839168e6-8ee6-4500-f8f3-8d23c9b9994b"
      },
      "source": [
        "#sum of 2 no\n",
        "n1=int(input(\"enter num1\"))\n",
        "n2=int(input(\"enter num2\"))\n",
        "ans=n1+n2\n",
        "print(\"sum=\",ans)"
      ],
      "execution_count": 3,
      "outputs": [
        {
          "output_type": "stream",
          "text": [
            "enter num13\n",
            "enter num24\n",
            "sum= 7\n"
          ],
          "name": "stdout"
        }
      ]
    },
    {
      "cell_type": "markdown",
      "metadata": {
        "id": "bLJ6gjCL1BPV"
      },
      "source": [
        "#conditional statement\n",
        "\n",
        "*   if\n",
        "*   if..else\n",
        "* elseif\n",
        "*nested if\n"
      ]
    },
    {
      "cell_type": "code",
      "metadata": {
        "colab": {
          "base_uri": "https://localhost:8080/"
        },
        "id": "RY8t1NDo1Ndp",
        "outputId": "ba297573-193a-481a-8684-a70e6abc0ea2"
      },
      "source": [
        "n1=10\n",
        "n2=20\n",
        "if n1>n2:\n",
        "  print(n1,\" is greater\")\n",
        "else:\n",
        "  print(n2,\" is greater\")"
      ],
      "execution_count": 4,
      "outputs": [
        {
          "output_type": "stream",
          "text": [
            "20  is greater\n"
          ],
          "name": "stdout"
        }
      ]
    }
  ]
}