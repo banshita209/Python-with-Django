{
  "nbformat": 4,
  "nbformat_minor": 0,
  "metadata": {
    "colab": {
      "name": "Day4_AkashTechnolabs.ipynb",
      "provenance": [],
      "authorship_tag": "ABX9TyPIK3wP736ewB3cKNnAPAie",
      "include_colab_link": true
    },
    "kernelspec": {
      "name": "python3",
      "display_name": "Python 3"
    },
    "language_info": {
      "name": "python"
    }
  },
  "cells": [
    {
      "cell_type": "markdown",
      "metadata": {
        "id": "view-in-github",
        "colab_type": "text"
      },
      "source": [
        "<a href=\"https://colab.research.google.com/github/banshita209/Python-with-Django/blob/master/Day4_AkashTechnolabs.ipynb\" target=\"_parent\"><img src=\"https://colab.research.google.com/assets/colab-badge.svg\" alt=\"Open In Colab\"/></a>"
      ]
    },
    {
      "cell_type": "markdown",
      "metadata": {
        "id": "r5fbdnQUiaXA"
      },
      "source": [
        "# Function \n",
        "* built in function\n",
        "    * eg: range\n",
        "* user define function\n"
      ]
    },
    {
      "cell_type": "code",
      "metadata": {
        "colab": {
          "base_uri": "https://localhost:8080/"
        },
        "id": "Nreg9QjpgsV7",
        "outputId": "29721023-a7f9-4fcd-d337-abfe8885ae02"
      },
      "source": [
        "def myfunction():\n",
        "  print(\"hello banshita\")\n",
        "\n",
        "#no agru no return\n",
        "myfunction()\n",
        "myfunction()"
      ],
      "execution_count": 1,
      "outputs": [
        {
          "output_type": "stream",
          "text": [
            "hello banshita\n",
            "hello banshita\n"
          ],
          "name": "stdout"
        }
      ]
    },
    {
      "cell_type": "code",
      "metadata": {
        "colab": {
          "base_uri": "https://localhost:8080/"
        },
        "id": "XrXaXxAgjR11",
        "outputId": "6b62ff6e-3f91-4d84-9d5e-5779face1f4e"
      },
      "source": [
        "def myfunction(name):\n",
        "  print(\"hello \",name)\n",
        "\n",
        "#with agru no return\n",
        "myfunction(\"banshita\")\n",
        "myfunction(\"vidhi\")"
      ],
      "execution_count": 2,
      "outputs": [
        {
          "output_type": "stream",
          "text": [
            "hello  banshita\n",
            "hello  vidhi\n"
          ],
          "name": "stdout"
        }
      ]
    },
    {
      "cell_type": "code",
      "metadata": {
        "colab": {
          "base_uri": "https://localhost:8080/"
        },
        "id": "U9c8hlTjjdMx",
        "outputId": "bbb1d1db-1315-4863-e42a-1c69a5c14b2b"
      },
      "source": [
        "def myfunction(name):\n",
        "  print(\"hello \",name)\n",
        "  return name\n",
        "\n",
        "#with agru return\n",
        "name = myfunction(\"banshita\")\n",
        "print(\"name :\",name)"
      ],
      "execution_count": 3,
      "outputs": [
        {
          "output_type": "stream",
          "text": [
            "hello  banshita\n",
            "name : banshita\n"
          ],
          "name": "stdout"
        }
      ]
    },
    {
      "cell_type": "code",
      "metadata": {
        "colab": {
          "base_uri": "https://localhost:8080/"
        },
        "id": "65luyNBAj2vR",
        "outputId": "04952044-9791-4658-f8a5-c3149a6b627f"
      },
      "source": [
        "#one return statemnt can return multiple values\n",
        "def myfunction():\n",
        "  name=\"banshita\"\n",
        "  cllg=\"ASOIT\"\n",
        "  return name,cllg\n",
        "\n",
        "#no agru no return\n",
        "name,cllg=myfunction()\n",
        "print(\"name :\",name)\n",
        "print(\"Cllg :\"+cllg)"
      ],
      "execution_count": 6,
      "outputs": [
        {
          "output_type": "stream",
          "text": [
            "name : banshita\n",
            "Cllg :ASOIT\n"
          ],
          "name": "stdout"
        }
      ]
    },
    {
      "cell_type": "markdown",
      "metadata": {
        "id": "m0Y05N1UkiWE"
      },
      "source": [
        "# function agrument\n",
        "* default argument\n",
        "* keyword argument\n",
        "* variable length argument\n",
        "    * \"*\" for non keyword argumnent\n",
        "    * \"**\"  for keyword argument"
      ]
    },
    {
      "cell_type": "code",
      "metadata": {
        "colab": {
          "base_uri": "https://localhost:8080/"
        },
        "id": "zsvkgqsrkhNO",
        "outputId": "b35bcf55-ecc3-44b2-b32c-dd7009e22e1f"
      },
      "source": [
        "#default agrument\n",
        "\n",
        "def sum(n1=89,n2=10):\n",
        "  print(\"sum :\",n1+n2)\n",
        "\n",
        "sum(10,20)\n",
        "sum(11)\n",
        "sum()"
      ],
      "execution_count": 10,
      "outputs": [
        {
          "output_type": "stream",
          "text": [
            "sum : 30\n",
            "sum : 21\n",
            "sum : 99\n"
          ],
          "name": "stdout"
        }
      ]
    },
    {
      "cell_type": "code",
      "metadata": {
        "colab": {
          "base_uri": "https://localhost:8080/"
        },
        "id": "eo4ZL1UblWu5",
        "outputId": "eb7ade02-1896-499c-e538-d79f61a1f0cc"
      },
      "source": [
        "def sum(a,b):\n",
        "  print(\"Sum : \",a+b)\n",
        "\n",
        "#variable need to be same\n",
        "sum(b=10,a=20)"
      ],
      "execution_count": 11,
      "outputs": [
        {
          "output_type": "stream",
          "text": [
            "Sum :  30\n"
          ],
          "name": "stdout"
        }
      ]
    },
    {
      "cell_type": "code",
      "metadata": {
        "colab": {
          "base_uri": "https://localhost:8080/"
        },
        "id": "aAqVhkuwma4U",
        "outputId": "5f403ee9-4cb2-43f0-836b-e5398d9f1e2d"
      },
      "source": [
        "def sum(*n1):\n",
        "  sum=0\n",
        "  for i in n1:\n",
        "    sum+=i\n",
        "  print(\"sum :\",sum)\n",
        "\n",
        "sum(34,2)\n",
        "sum(34,56,1,2)"
      ],
      "execution_count": 13,
      "outputs": [
        {
          "output_type": "stream",
          "text": [
            "sum : 36\n",
            "sum : 93\n"
          ],
          "name": "stdout"
        }
      ]
    },
    {
      "cell_type": "code",
      "metadata": {
        "colab": {
          "base_uri": "https://localhost:8080/"
        },
        "id": "7-c2Krb_nnBS",
        "outputId": "6d93ffda-f64c-4e9b-e652-cf2419086341"
      },
      "source": [
        "def myfunction(**arg):\n",
        "  for i, j in arg.items():\n",
        "    print(i,j)\n",
        "\n",
        "myfunction(name='banshita',cllg='asoit')"
      ],
      "execution_count": 18,
      "outputs": [
        {
          "output_type": "stream",
          "text": [
            "name banshita\n",
            "cllg asoit\n"
          ],
          "name": "stdout"
        }
      ]
    },
    {
      "cell_type": "markdown",
      "metadata": {
        "id": "fTK--_l8mAQ4"
      },
      "source": [
        "#module\n",
        "* import"
      ]
    },
    {
      "cell_type": "code",
      "metadata": {
        "id": "9JoPLfuwo_bT"
      },
      "source": [
        ""
      ],
      "execution_count": null,
      "outputs": []
    },
    {
      "cell_type": "markdown",
      "metadata": {
        "id": "AlNZG1fxqGfg"
      },
      "source": [
        "#operator\n",
        "* arithmetic operator\n",
        "* comparison operator\n",
        "* logical operator\n",
        "* membership operator\n",
        "    * 'in' and 'not in'\n",
        "* identitiy operator\n",
        "    * 'is' and 'is not'"
      ]
    },
    {
      "cell_type": "code",
      "metadata": {
        "colab": {
          "base_uri": "https://localhost:8080/"
        },
        "id": "SPLsFKTzqPKE",
        "outputId": "598f34e3-9a95-4f02-aa62-e9bb66c3f9ac"
      },
      "source": [
        "l=[12,23,4,5,7,8,3]\n",
        "\n",
        "print(10 in l)\n",
        "print(10 not in l)\n",
        "print(12 in l)\n",
        "print(23 not in l)"
      ],
      "execution_count": 19,
      "outputs": [
        {
          "output_type": "stream",
          "text": [
            "False\n",
            "True\n",
            "True\n",
            "False\n"
          ],
          "name": "stdout"
        }
      ]
    },
    {
      "cell_type": "code",
      "metadata": {
        "colab": {
          "base_uri": "https://localhost:8080/"
        },
        "id": "IM1-uzACreFS",
        "outputId": "07342e61-e058-4059-909d-9d10b05642b8"
      },
      "source": [
        "x=20\n",
        "y=20\n",
        "print(x is y)\n",
        "print(x is not y)"
      ],
      "execution_count": 20,
      "outputs": [
        {
          "output_type": "stream",
          "text": [
            "True\n",
            "False\n"
          ],
          "name": "stdout"
        }
      ]
    }
  ]
}