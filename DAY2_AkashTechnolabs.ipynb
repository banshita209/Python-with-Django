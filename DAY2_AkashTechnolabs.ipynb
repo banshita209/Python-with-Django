{
  "nbformat": 4,
  "nbformat_minor": 0,
  "metadata": {
    "colab": {
      "name": "DAY2_AkashTechnolabs.ipynb",
      "provenance": [],
      "collapsed_sections": [],
      "authorship_tag": "ABX9TyP3niz26Hw9RETpAnH4gcUM",
      "include_colab_link": true
    },
    "kernelspec": {
      "name": "python3",
      "display_name": "Python 3"
    },
    "language_info": {
      "name": "python"
    }
  },
  "cells": [
    {
      "cell_type": "markdown",
      "metadata": {
        "id": "view-in-github",
        "colab_type": "text"
      },
      "source": [
        "<a href=\"https://colab.research.google.com/github/banshita209/Python-with-Django/blob/master/DAY2_AkashTechnolabs.ipynb\" target=\"_parent\"><img src=\"https://colab.research.google.com/assets/colab-badge.svg\" alt=\"Open In Colab\"/></a>"
      ]
    },
    {
      "cell_type": "markdown",
      "metadata": {
        "id": "pLxxXOBrQox_"
      },
      "source": [
        "Comment in python can be done using:\n",
        "\n",
        "*   #\n",
        "*   `\n"
      ]
    },
    {
      "cell_type": "code",
      "metadata": {
        "id": "Gb0g3FMuQ4ps"
      },
      "source": [
        "#hello\n",
        "print(hello)"
      ],
      "execution_count": null,
      "outputs": []
    },
    {
      "cell_type": "markdown",
      "metadata": {
        "id": "oKbUKSn3RAnk"
      },
      "source": [
        "variables in python:\n",
        "\n",
        "\n",
        "*   no need to decaler variable name\n",
        "*   \" or ' both can be used for strings\n",
        "*   we can change value of variable after assigning it \n",
        "\n"
      ]
    },
    {
      "cell_type": "code",
      "metadata": {
        "colab": {
          "base_uri": "https://localhost:8080/"
        },
        "id": "8helVLJJReuY",
        "outputId": "fbb9d020-355c-4aa5-f497-7655e61d6b20"
      },
      "source": [
        "name=\"banshita\"\n",
        "print(type(name))\n",
        "print(name)\n",
        "name=\"gangwar\"\n",
        "print(name)\n",
        "name=123\n",
        "print(type(name))"
      ],
      "execution_count": 3,
      "outputs": [
        {
          "output_type": "stream",
          "text": [
            "<class 'str'>\n",
            "banshita\n",
            "gangwar\n",
            "<class 'int'>\n"
          ],
          "name": "stdout"
        }
      ]
    },
    {
      "cell_type": "code",
      "metadata": {
        "colab": {
          "base_uri": "https://localhost:8080/"
        },
        "id": "ptMLp69iR7dy",
        "outputId": "113dafa2-37b8-4ace-a7aa-627a8d39d6f5"
      },
      "source": [
        "#assigning value to multiple variable in single line\n",
        "a,b,c=10,20,30\n",
        "print(a)\n",
        "print(b)\n",
        "print(c)"
      ],
      "execution_count": 7,
      "outputs": [
        {
          "output_type": "stream",
          "text": [
            "10\n",
            "20\n",
            "30\n"
          ],
          "name": "stdout"
        }
      ]
    },
    {
      "cell_type": "markdown",
      "metadata": {
        "id": "Fiyw_t4ISgmA"
      },
      "source": [
        "Number datatype:\n",
        "\n",
        "1.   int\n",
        "2.   float\n",
        "3.   complex number\n",
        "\n",
        "type(): to check datatype of variable:\n",
        "\n",
        "\n",
        "---\n",
        "isinstance() - is used to check if the given variable is the instance of given type.\n",
        "\n",
        "\n"
      ]
    },
    {
      "cell_type": "code",
      "metadata": {
        "colab": {
          "base_uri": "https://localhost:8080/"
        },
        "id": "eXG-lrwRSbfe",
        "outputId": "3d91d393-5974-42e9-d77c-da727d9a74d3"
      },
      "source": [
        "n=10\n",
        "print(type(n))\n",
        "n2=10.5\n",
        "print(type(n2))\n",
        "print(\"wether n2 is a int or not :\",isinstance(n2,int))"
      ],
      "execution_count": 9,
      "outputs": [
        {
          "output_type": "stream",
          "text": [
            "<class 'int'>\n",
            "<class 'float'>\n",
            "wether n2 is a int or not False\n"
          ],
          "name": "stdout"
        }
      ]
    }
  ]
}