{
  "nbformat": 4,
  "nbformat_minor": 0,
  "metadata": {
    "colab": {
      "name": "DAY2_AkashTechnolabs.ipynb",
      "provenance": [],
      "collapsed_sections": [],
      "authorship_tag": "ABX9TyOb7qL+o7FHc5DlKJnQVOc5",
      "include_colab_link": true
    },
    "kernelspec": {
      "name": "python3",
      "display_name": "Python 3"
    },
    "language_info": {
      "name": "python"
    }
  },
  "cells": [
    {
      "cell_type": "markdown",
      "metadata": {
        "id": "view-in-github",
        "colab_type": "text"
      },
      "source": [
        "<a href=\"https://colab.research.google.com/github/banshita209/Python-with-Django/blob/master/DAY2_AkashTechnolabs.ipynb\" target=\"_parent\"><img src=\"https://colab.research.google.com/assets/colab-badge.svg\" alt=\"Open In Colab\"/></a>"
      ]
    },
    {
      "cell_type": "markdown",
      "metadata": {
        "id": "pLxxXOBrQox_"
      },
      "source": [
        "Comment in python can be done using:\n",
        "\n",
        "*   #\n",
        "*   `\n"
      ]
    },
    {
      "cell_type": "code",
      "metadata": {
        "id": "Gb0g3FMuQ4ps"
      },
      "source": [
        "#hello\n",
        "print(hello)"
      ],
      "execution_count": null,
      "outputs": []
    },
    {
      "cell_type": "markdown",
      "metadata": {
        "id": "oKbUKSn3RAnk"
      },
      "source": [
        "variables in python:\n",
        "\n",
        "\n",
        "*   no need to decaler variable name\n",
        "*   \" or ' both can be used for strings\n",
        "*   we can change value of variable after assigning it \n",
        "\n"
      ]
    },
    {
      "cell_type": "code",
      "metadata": {
        "colab": {
          "base_uri": "https://localhost:8080/"
        },
        "id": "8helVLJJReuY",
        "outputId": "fbb9d020-355c-4aa5-f497-7655e61d6b20"
      },
      "source": [
        "name=\"banshita\"\n",
        "print(type(name))\n",
        "print(name)\n",
        "name=\"gangwar\"\n",
        "print(name)\n",
        "name=123\n",
        "print(type(name))"
      ],
      "execution_count": 3,
      "outputs": [
        {
          "output_type": "stream",
          "text": [
            "<class 'str'>\n",
            "banshita\n",
            "gangwar\n",
            "<class 'int'>\n"
          ],
          "name": "stdout"
        }
      ]
    },
    {
      "cell_type": "code",
      "metadata": {
        "colab": {
          "base_uri": "https://localhost:8080/"
        },
        "id": "ptMLp69iR7dy",
        "outputId": "113dafa2-37b8-4ace-a7aa-627a8d39d6f5"
      },
      "source": [
        "#assigning value to multiple variable in single line\n",
        "a,b,c=10,20,30\n",
        "print(a)\n",
        "print(b)\n",
        "print(c)"
      ],
      "execution_count": 7,
      "outputs": [
        {
          "output_type": "stream",
          "text": [
            "10\n",
            "20\n",
            "30\n"
          ],
          "name": "stdout"
        }
      ]
    },
    {
      "cell_type": "markdown",
      "metadata": {
        "id": "Fiyw_t4ISgmA"
      },
      "source": [
        "Number datatype:\n",
        "\n",
        "1.   int\n",
        "2.   float\n",
        "3.   complex number\n",
        "\n",
        "type(): to check datatype of variable:\n",
        "\n",
        "\n",
        "---\n",
        "isinstance() - is used to check if the given variable is the instance of given type.\n",
        "\n",
        "\n"
      ]
    },
    {
      "cell_type": "code",
      "metadata": {
        "colab": {
          "base_uri": "https://localhost:8080/"
        },
        "id": "eXG-lrwRSbfe",
        "outputId": "3d91d393-5974-42e9-d77c-da727d9a74d3"
      },
      "source": [
        "n=10\n",
        "print(type(n))\n",
        "n2=10.5\n",
        "print(type(n2))\n",
        "print(\"wether n2 is a int or not :\",isinstance(n2,int))"
      ],
      "execution_count": 9,
      "outputs": [
        {
          "output_type": "stream",
          "text": [
            "<class 'int'>\n",
            "<class 'float'>\n",
            "wether n2 is a int or not False\n"
          ],
          "name": "stdout"
        }
      ]
    },
    {
      "cell_type": "code",
      "metadata": {
        "colab": {
          "base_uri": "https://localhost:8080/"
        },
        "id": "IiYcLP9kTxWT",
        "outputId": "e60db9f7-4e64-4ef0-c0fb-0b6bc2b51863"
      },
      "source": [
        "n=10+2j\n",
        "print(type(n))"
      ],
      "execution_count": 10,
      "outputs": [
        {
          "output_type": "stream",
          "text": [
            "<class 'complex'>\n"
          ],
          "name": "stdout"
        }
      ]
    },
    {
      "cell_type": "markdown",
      "metadata": {
        "id": "gXWbF4ksUYSv"
      },
      "source": [
        "string\n",
        "\n",
        "*   silicing\n",
        "*   List item\n",
        "\n"
      ]
    },
    {
      "cell_type": "code",
      "metadata": {
        "colab": {
          "base_uri": "https://localhost:8080/"
        },
        "id": "8T4SKIyiUHYq",
        "outputId": "9200bbca-b3d9-47df-9f5d-a7770d97dda4"
      },
      "source": [
        "n=\"banshita\"\n",
        "print(n)\n",
        "print(\"---slicing---\")\n",
        "print(n[2:5])\n",
        "print(n[2:])\n",
        "print(n[:5])\n",
        "print(name*2)"
      ],
      "execution_count": 15,
      "outputs": [
        {
          "output_type": "stream",
          "text": [
            "banshita\n",
            "---slicing---\n",
            "nsh\n",
            "nshita\n",
            "bansh\n",
            "246\n"
          ],
          "name": "stdout"
        }
      ]
    },
    {
      "cell_type": "markdown",
      "metadata": {
        "id": "OJ8-xcb6V8cl"
      },
      "source": [
        "# list\n",
        "\n",
        "*   can add multiple data type value\n",
        "*   [] is used\n",
        "*   \n",
        "\n"
      ]
    },
    {
      "cell_type": "code",
      "metadata": {
        "colab": {
          "base_uri": "https://localhost:8080/"
        },
        "id": "Hfz6loaBWQ91",
        "outputId": "9474d2ff-b375-4604-8cbe-1c643bc71aa2"
      },
      "source": [
        "l=[1,2,\"banshita\"]\n",
        "print(l)\n",
        "print(type(l))\n",
        "#slicing in list\n",
        "print(l[1:])\n",
        "print(l[:3])\n"
      ],
      "execution_count": 19,
      "outputs": [
        {
          "output_type": "stream",
          "text": [
            "[1, 2, 'banshita']\n",
            "<class 'list'>\n",
            "[2, 'banshita']\n",
            "[1, 2, 'banshita']\n"
          ],
          "name": "stdout"
        }
      ]
    },
    {
      "cell_type": "markdown",
      "metadata": {
        "id": "hAbXo-cOXpGD"
      },
      "source": [
        "# tuple\n",
        "\n",
        "\n",
        "*   immutable\n",
        "*   () is used\n",
        "\n"
      ]
    },
    {
      "cell_type": "code",
      "metadata": {
        "colab": {
          "base_uri": "https://localhost:8080/"
        },
        "id": "VYU4J576Xvay",
        "outputId": "3d49254e-d346-40aa-8774-26b5e3e3b399"
      },
      "source": [
        "t=(1,2,3,\"banshita\")\n",
        "print(t)\n",
        "print(type(t))\n",
        "print(t[2])\n",
        "print(t[:3])\n",
        "print(t[2:])\n",
        "print(t[1:3])\n",
        "\n",
        "#this statemnt generates error\n",
        "#t[2]=98"
      ],
      "execution_count": 25,
      "outputs": [
        {
          "output_type": "stream",
          "text": [
            "(1, 2, 3, 'banshita')\n",
            "<class 'tuple'>\n",
            "3\n",
            "(1, 2, 3)\n",
            "(3, 'banshita')\n",
            "(2, 3)\n"
          ],
          "name": "stdout"
        }
      ]
    },
    {
      "cell_type": "markdown",
      "metadata": {
        "id": "prfinrfGYa9l"
      },
      "source": [
        "# Dictionary\n",
        "\n",
        "\n",
        "*   store value in key value pair\n",
        "\n"
      ]
    },
    {
      "cell_type": "code",
      "metadata": {
        "colab": {
          "base_uri": "https://localhost:8080/"
        },
        "id": "nl1VzYYvYZXQ",
        "outputId": "fb434827-94da-47b2-d092-43823438f60c"
      },
      "source": [
        "d={1:\"banshita\", 2:\"gangwar\",\"cllg\":\"ASOIT\"}\n",
        "print(d)\n",
        "print(type(d))\n",
        "print(\"name:\",d[1])"
      ],
      "execution_count": 28,
      "outputs": [
        {
          "output_type": "stream",
          "text": [
            "{1: 'banshita', 2: 'gangwar', 'cllg': 'ASOIT'}\n",
            "<class 'dict'>\n",
            "name: banshita\n"
          ],
          "name": "stdout"
        }
      ]
    }
  ]
}